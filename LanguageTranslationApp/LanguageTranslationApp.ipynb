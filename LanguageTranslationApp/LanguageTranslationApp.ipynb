{
 "cells": [
  {
   "cell_type": "code",
   "execution_count": 62,
   "id": "b9c9eb11-46d7-44b0-a97b-e319edf5c824",
   "metadata": {},
   "outputs": [],
   "source": [
    "from tkinter import *\n",
    "from tkinter import ttk\n",
    "from googletrans import LANGUAGES"
   ]
  },
  {
   "cell_type": "code",
   "execution_count": 64,
   "id": "7a96a879-63e9-46ca-a679-17461af3051c",
   "metadata": {},
   "outputs": [
    {
     "data": {
      "text/plain": [
       "''"
      ]
     },
     "execution_count": 64,
     "metadata": {},
     "output_type": "execute_result"
    }
   ],
   "source": [
    "root = Tk()\n",
    "root.geometry('1100x320')\n",
    "root.resizable(0, 0)\n",
    "root['bg'] = 'pink'\n",
    "root.title('Real-time translator')"
   ]
  },
  {
   "cell_type": "code",
   "execution_count": 68,
   "id": "052683c4-4379-413d-9367-1ea743e25834",
   "metadata": {},
   "outputs": [],
   "source": [
    "Label(root, text=\"Language Translator\", font=\"Arial 20 bold\").pack()\n",
    "\n",
    "Label(root, text=\"Enter Text\", font='arial 13 bold', bg='white smoke').place(x=165, y=90)\n",
    "\n",
    "Input_text = Entry(root, width=60)\n",
    "Input_text.place(x=30, y=130)\n",
    "\n",
    "Label(root, text=\"Output\", font='arial 13 bold', bg='white smoke').place(x=780, y=90)\n",
    "Output_text = Text(root, font='arial 10', height=5, wrap=WORD, padx=5, pady=5, width=50)\n",
    "Output_text.place(x=600, y=130)\n",
    "\n",
    "language = list(LANGUAGES.values())\n",
    "dest_lang = ttk.Combobox(root, values=language, width=22)\n",
    "dest_lang.place(x=130, y=180)\n",
    "dest_lang.set('Choose Language')\n"
   ]
  },
  {
   "cell_type": "code",
   "execution_count": 70,
   "id": "ec85117a-afe4-4c91-a2b4-09e0ec9c54be",
   "metadata": {},
   "outputs": [],
   "source": [
    "def Translate():\n",
    "\ttry:\n",
    "\t\ttranslator = Translator(to_lang=dest_lang.get())\n",
    "\t\ttranslation = translator.translate(Input_text.get())\n",
    "\t\tOutput_text.delete(1.0, END)\n",
    "\t\tOutput_text.insert(END, translation)\n",
    "\texcept Exception as e:\n",
    "\t\tprint(f\"Translation error: {e}\")"
   ]
  },
  {
   "cell_type": "code",
   "execution_count": 72,
   "id": "417de6b1-b687-4812-b046-1453bfba6c40",
   "metadata": {},
   "outputs": [],
   "source": [
    "trans_btn = Button(root, text='Translate', font='arial 12 bold', pady=5, command=Translate, bg='orange', activebackground='green')\n",
    "trans_btn.place(x=445, y=180)"
   ]
  },
  {
   "cell_type": "code",
   "execution_count": 76,
   "id": "d6d9a6ef-695a-46c6-b38b-0213524cb191",
   "metadata": {},
   "outputs": [],
   "source": [
    "root.mainloop()"
   ]
  },
  {
   "cell_type": "code",
   "execution_count": 80,
   "id": "5bb7295c-50a4-4855-ae04-60c44c76abe9",
   "metadata": {},
   "outputs": [],
   "source": [
    "# Import necessary modules\n",
    "from tkinter import *\n",
    "from tkinter import ttk\n",
    "from googletrans import Translator, LANGUAGES\n",
    "\n",
    "# Create the main window\n",
    "root = Tk()\n",
    "root.geometry('1100x320') # Set the window size\n",
    "root.resizable(0, 0) # Disable window resizing\n",
    "root['bg'] = 'pink' # Set background color\n",
    "root.title('Real-time translator') # Set window title\n",
    "\n",
    "# Create a label for the title\n",
    "Label(root, text=\"Language Translator\", font=\"Arial 20 bold\").pack()\n",
    "\n",
    "# Create a label for the input text\n",
    "Label(root, text=\"Enter Text\", font='arial 13 bold', bg='white smoke').place(x=165, y=90)\n",
    "\n",
    "# Create an entry widget for user input\n",
    "Input_text = Entry(root, width=60)\n",
    "Input_text.place(x=30, y=130)\n",
    "\n",
    "# Create a label for the output\n",
    "Label(root, text=\"Output\", font='arial 13 bold', bg='white smoke').place(x=780, y=90)\n",
    "\n",
    "# Create a text widget for displaying the translation\n",
    "Output_text = Text(root, font='arial 10', height=5, wrap=WORD, padx=5, pady=5, width=50)\n",
    "Output_text.place(x=600, y=130)\n",
    "\n",
    "# Get the list of supported languages\n",
    "language = list(LANGUAGES.values())\n",
    "\n",
    "# Create a Combobox for selecting the destination language\n",
    "dest_lang = ttk.Combobox(root, values=language, width=22)\n",
    "dest_lang.place(x=130, y=180)\n",
    "dest_lang.set('Choose Language') # Set default value\n",
    "\n",
    "# Function to perform translation\n",
    "def Translate():\n",
    "\ttry:\n",
    "\t\t# Create a Translator object\n",
    "\t\ttranslator = Translator()\n",
    "\t\t\n",
    "\t\t# Translate the input text to the selected destination language\n",
    "\t\ttranslation = translator.translate(Input_text.get(), dest=dest_lang.get())\n",
    "\t\t\n",
    "\t\t# Clear the output text and insert the translation\n",
    "\t\tOutput_text.delete(1.0, END)\n",
    "\t\tOutput_text.insert(END, translation.text)\n",
    "\texcept Exception as e:\n",
    "\t\tprint(f\"Translation error: {e}\")\n",
    "\n",
    "# Create a button for triggering translation\n",
    "trans_btn = Button(root, text='Translate', font='arial 12 bold', pady=5, command=Translate, bg='orange', activebackground='green')\n",
    "trans_btn.place(x=445, y=180)\n",
    "\n",
    "# Start the Tkinter event loop\n",
    "root.mainloop()"
   ]
  },
  {
   "cell_type": "code",
   "execution_count": null,
   "id": "12ce43dd-2684-4c6a-b4f3-a37c1a60bae8",
   "metadata": {},
   "outputs": [],
   "source": []
  }
 ],
 "metadata": {
  "kernelspec": {
   "display_name": "Python 3 (ipykernel)",
   "language": "python",
   "name": "python3"
  },
  "language_info": {
   "codemirror_mode": {
    "name": "ipython",
    "version": 3
   },
   "file_extension": ".py",
   "mimetype": "text/x-python",
   "name": "python",
   "nbconvert_exporter": "python",
   "pygments_lexer": "ipython3",
   "version": "3.11.5"
  }
 },
 "nbformat": 4,
 "nbformat_minor": 5
}
